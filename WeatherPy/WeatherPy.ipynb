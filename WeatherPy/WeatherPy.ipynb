{
 "cells": [
  {
   "cell_type": "markdown",
   "metadata": {},
   "source": [
    "# WeatherPy\n",
    "----\n",
    "\n",
    "#### Note\n",
    "* Instructions have been included for each segment. You do not have to follow them exactly, but they are included to help you think through the steps.\n",
    "\n",
    "### Please enter your own key in the \"api_keys.py\" file to run the code."
   ]
  },
  {
   "cell_type": "markdown",
   "metadata": {},
   "source": [
    "### Observations based on Analysis done below\n",
    "\n",
    "1.Temperature seems to have a clear correlation with latitude, the weather becomes significantly warmer as one approaches the equator (0 degrees). As latitude moves away from equator, temperature also decreases which is expected.\n",
    "\n",
    "2.While it looks like there is no strong relationship between latitude and wind speed, the cities with wind speeds over 15 mph increases when you move away from the equator from both the direction. However more data needs to be examined to make a stronger conclusion.\n",
    "\n",
    "3.It seems that there is no correlation between humidity and latitude. However, there is a slightly larger cluster of northern hemisphere cities with high humidity (above 60% humidity)\n"
   ]
  },
  {
   "cell_type": "code",
   "execution_count": 1,
   "metadata": {
    "scrolled": true
   },
   "outputs": [],
   "source": [
    "# Dependencies and Setup\n",
    "#!pip install citypy\n",
    "import matplotlib.pyplot as plt\n",
    "import pandas as pd\n",
    "import numpy as np\n",
    "import requests\n",
    "import time\n",
    "from scipy.stats import linregress\n",
    "import scipy.stats as st\n",
    "\n",
    "# Import API key\n",
    "from api_keys import weather_api_key\n",
    "\n",
    "# Incorporated citipy to determine city based on latitude and longitude\n",
    "from citipy import citipy\n",
    "\n",
    "# Output File (CSV)\n",
    "output_data_file = \"output_data/cities.csv\"\n",
    "\n",
    "# Range of latitudes and longitudes\n",
    "lat_range = (-90, 90)\n",
    "lng_range = (-180, 180)"
   ]
  },
  {
   "cell_type": "markdown",
   "metadata": {},
   "source": [
    "## Generate Cities List"
   ]
  },
  {
   "cell_type": "code",
   "execution_count": 2,
   "metadata": {},
   "outputs": [
    {
     "data": {
      "text/plain": [
       "598"
      ]
     },
     "execution_count": 2,
     "metadata": {},
     "output_type": "execute_result"
    }
   ],
   "source": [
    "# List for holding lat_lngs and cities\n",
    "lat_lngs = []\n",
    "cities = []\n",
    "\n",
    "# Create a set of random lat and lng combinations\n",
    "np.random.seed(123)\n",
    "lats = np.random.uniform(lat_range[0], lat_range[1], size=1500)\n",
    "lngs = np.random.uniform(lng_range[0], lng_range[1], size=1500)\n",
    "lat_lngs = zip(lats, lngs)\n",
    "\n",
    "# Identify nearest city for each lat, lng combination\n",
    "for lat_lng in lat_lngs:\n",
    "    city = citipy.nearest_city(lat_lng[0], lat_lng[1]).city_name\n",
    "    \n",
    "    # If the city is unique, then add it to a our cities list\n",
    "    if city not in cities:\n",
    "        cities.append(city)\n",
    "\n",
    "# Print the city count to confirm sufficient count\n",
    "len(cities)"
   ]
  },
  {
   "cell_type": "markdown",
   "metadata": {},
   "source": [
    "### Perform API Calls\n",
    "* Perform a weather check on each city using a series of successive API calls.\n",
    "* Include a print log of each city as it'sbeing processed (with the city number and city name).\n"
   ]
  },
  {
   "cell_type": "code",
   "execution_count": 3,
   "metadata": {},
   "outputs": [],
   "source": [
    "url = \"http://api.openweathermap.org/data/2.5/weather?\"\n",
    "units = \"imperial\"\n",
    "\n",
    "# Build partial query URL\n",
    "query_url = f\"{url}appid={weather_api_key}&units={units}&q=\"\n",
    "\n",
    "#print (query_url)\n"
   ]
  },
  {
   "cell_type": "code",
   "execution_count": 4,
   "metadata": {},
   "outputs": [],
   "source": [
    "# set lists to store response\n",
    "city_data = []\n",
    "cloudinesses = []\n",
    "dates = []\n",
    "humidity = []\n",
    "lats = []\n",
    "lngs = []\n",
    "max_temps = []\n",
    "wind_speeds = []\n",
    "countries = []\n",
    "\n",
    "#Variables to keep track of response number\n",
    "record_num = 0\n",
    "record_set = 1\n"
   ]
  },
  {
   "cell_type": "code",
   "execution_count": 5,
   "metadata": {},
   "outputs": [
    {
     "name": "stdout",
     "output_type": "stream",
     "text": [
      "\n",
      "Beginning Data Retrieval\n",
      "-----------------------------\n",
      "Processing Record 0 of Set 1 | camacha\n",
      "Processing Record 1 of Set 1 | mataura\n",
      "Processing Record 2 of Set 1 | hobart\n",
      "Processing Record 3 of Set 1 | bargal\n",
      "City not found. Skipping...\n",
      "Processing Record 4 of Set 1 | manacor\n",
      "Processing Record 5 of Set 1 | sao jose da coroa grande\n",
      "Processing Record 6 of Set 1 | barrow\n",
      "Processing Record 7 of Set 1 | levelland\n",
      "Processing Record 8 of Set 1 | ambon\n",
      "Processing Record 9 of Set 1 | morondava\n",
      "Processing Record 10 of Set 1 | rikitea\n",
      "Processing Record 11 of Set 1 | ogden\n",
      "Processing Record 12 of Set 1 | alta floresta\n",
      "Processing Record 13 of Set 1 | port alfred\n",
      "Processing Record 14 of Set 1 | ongandjera\n",
      "Processing Record 15 of Set 1 | bastia\n",
      "Processing Record 16 of Set 1 | new norfolk\n",
      "Processing Record 17 of Set 1 | mabay\n",
      "Processing Record 18 of Set 1 | ugoofaaru\n",
      "Processing Record 19 of Set 1 | ponta do sol\n",
      "Processing Record 20 of Set 1 | attawapiskat\n",
      "City not found. Skipping...\n",
      "Processing Record 21 of Set 1 | severo-kurilsk\n",
      "Processing Record 22 of Set 1 | kapaa\n",
      "Processing Record 23 of Set 1 | horasan\n",
      "Processing Record 24 of Set 1 | esperance\n",
      "Processing Record 25 of Set 1 | taltal\n",
      "Processing Record 26 of Set 1 | dunedin\n",
      "Processing Record 27 of Set 1 | victor harbor\n",
      "Processing Record 28 of Set 1 | eldorado\n",
      "Processing Record 29 of Set 1 | punta arenas\n",
      "Processing Record 30 of Set 1 | daru\n",
      "Processing Record 31 of Set 1 | atuona\n",
      "Processing Record 32 of Set 1 | lazaro cardenas\n",
      "Processing Record 33 of Set 1 | montepuez\n",
      "Processing Record 34 of Set 1 | kasempa\n",
      "Processing Record 35 of Set 1 | kjollefjord\n",
      "Processing Record 36 of Set 1 | vardo\n",
      "Processing Record 37 of Set 1 | puerto ayora\n",
      "Processing Record 38 of Set 1 | jieshi\n",
      "Processing Record 39 of Set 1 | bluff\n",
      "Processing Record 40 of Set 1 | talcahuano\n",
      "Processing Record 41 of Set 1 | katherine\n",
      "Processing Record 42 of Set 1 | iqaluit\n",
      "Processing Record 43 of Set 1 | mar del plata\n",
      "Processing Record 44 of Set 1 | curup\n",
      "Processing Record 45 of Set 1 | tuktoyaktuk\n",
      "Processing Record 46 of Set 1 | hilo\n",
      "Processing Record 47 of Set 1 | homer\n",
      "Processing Record 48 of Set 1 | marawi\n",
      "Processing Record 49 of Set 1 | san patricio\n",
      "Processing Record 0 of Set 2 | vallenar\n",
      "Processing Record 1 of Set 2 | bambous virieux\n",
      "Processing Record 2 of Set 2 | tiarei\n",
      "Processing Record 3 of Set 2 | nikolskoye\n",
      "Processing Record 4 of Set 2 | clyde river\n",
      "Processing Record 5 of Set 2 | ouesso\n",
      "Processing Record 6 of Set 2 | anju\n",
      "Processing Record 7 of Set 2 | san francisco del mar\n",
      "Processing Record 8 of Set 2 | codrington\n",
      "Processing Record 9 of Set 2 | praxedis guerrero\n",
      "Processing Record 10 of Set 2 | nanortalik\n",
      "Processing Record 11 of Set 2 | busselton\n",
      "Processing Record 12 of Set 2 | balkhash\n",
      "Processing Record 13 of Set 2 | cape town\n",
      "Processing Record 14 of Set 2 | kavaratti\n",
      "Processing Record 15 of Set 2 | belushya guba\n",
      "City not found. Skipping...\n",
      "Processing Record 16 of Set 2 | cabo san lucas\n",
      "Processing Record 17 of Set 2 | vrangel\n",
      "Processing Record 18 of Set 2 | ushuaia\n",
      "Processing Record 19 of Set 2 | sinnamary\n",
      "Processing Record 20 of Set 2 | am timan\n",
      "Processing Record 21 of Set 2 | taolanaro\n",
      "City not found. Skipping...\n",
      "Processing Record 22 of Set 2 | mingaora\n",
      "Processing Record 23 of Set 2 | lebu\n",
      "Processing Record 24 of Set 2 | saint george\n",
      "Processing Record 25 of Set 2 | hithadhoo\n",
      "Processing Record 26 of Set 2 | cherskiy\n",
      "Processing Record 27 of Set 2 | belyy yar\n",
      "Processing Record 28 of Set 2 | arraial do cabo\n",
      "Processing Record 29 of Set 2 | tautira\n",
      "Processing Record 30 of Set 2 | dikson\n",
      "Processing Record 31 of Set 2 | beloha\n",
      "Processing Record 32 of Set 2 | lermontovka\n",
      "Processing Record 33 of Set 2 | charlestown\n",
      "Processing Record 34 of Set 2 | taybad\n",
      "Processing Record 35 of Set 2 | hermanus\n",
      "Processing Record 36 of Set 2 | harper\n",
      "Processing Record 37 of Set 2 | half moon bay\n",
      "Processing Record 38 of Set 2 | hasaki\n",
      "Processing Record 39 of Set 2 | tasiilaq\n",
      "Processing Record 40 of Set 2 | kavieng\n",
      "Processing Record 41 of Set 2 | almaznyy\n",
      "Processing Record 42 of Set 2 | caravelas\n",
      "Processing Record 43 of Set 2 | presidencia roque saenz pena\n",
      "Processing Record 44 of Set 2 | provideniya\n",
      "Processing Record 45 of Set 2 | santa cruz\n",
      "Processing Record 46 of Set 2 | razole\n",
      "Processing Record 47 of Set 2 | husavik\n",
      "Processing Record 48 of Set 2 | lorengau\n",
      "Processing Record 49 of Set 2 | ilulissat\n",
      "Processing Record 0 of Set 3 | khatanga\n",
      "Processing Record 1 of Set 3 | bethel\n",
      "Processing Record 2 of Set 3 | quatre cocos\n",
      "Processing Record 3 of Set 3 | lingyuan\n",
      "Processing Record 4 of Set 3 | guerrero negro\n",
      "Processing Record 5 of Set 3 | kuusamo\n",
      "Processing Record 6 of Set 3 | qaanaaq\n",
      "Processing Record 7 of Set 3 | chuy\n",
      "Processing Record 8 of Set 3 | georgetown\n",
      "Processing Record 9 of Set 3 | oroquieta\n",
      "Processing Record 10 of Set 3 | saldanha\n",
      "Processing Record 11 of Set 3 | saskylakh\n",
      "Processing Record 12 of Set 3 | dunda\n",
      "Processing Record 13 of Set 3 | wulanhaote\n",
      "City not found. Skipping...\n",
      "Processing Record 14 of Set 3 | hami\n",
      "Processing Record 15 of Set 3 | gornopravdinsk\n",
      "Processing Record 16 of Set 3 | pinczow\n",
      "Processing Record 17 of Set 3 | karanpura\n",
      "Processing Record 18 of Set 3 | albany\n",
      "Processing Record 19 of Set 3 | sentyabrskiy\n",
      "City not found. Skipping...\n",
      "Processing Record 20 of Set 3 | andenes\n",
      "Processing Record 21 of Set 3 | cansancao\n",
      "Processing Record 22 of Set 3 | nguiu\n",
      "City not found. Skipping...\n",
      "Processing Record 23 of Set 3 | hibbing\n",
      "Processing Record 24 of Set 3 | airai\n",
      "Processing Record 25 of Set 3 | butaritari\n",
      "Processing Record 26 of Set 3 | sitka\n",
      "Processing Record 27 of Set 3 | port augusta\n",
      "Processing Record 28 of Set 3 | barentsburg\n",
      "City not found. Skipping...\n",
      "Processing Record 29 of Set 3 | valiug\n",
      "City not found. Skipping...\n",
      "Processing Record 30 of Set 3 | izhma\n",
      "Processing Record 31 of Set 3 | turinsk\n",
      "Processing Record 32 of Set 3 | neiafu\n",
      "Processing Record 33 of Set 3 | falealupo\n",
      "City not found. Skipping...\n",
      "Processing Record 34 of Set 3 | trincomalee\n",
      "Processing Record 35 of Set 3 | geraldton\n",
      "Processing Record 36 of Set 3 | mbanza-ngungu\n",
      "Processing Record 37 of Set 3 | balabac\n",
      "Processing Record 38 of Set 3 | lavrentiya\n",
      "Processing Record 39 of Set 3 | avarua\n",
      "Processing Record 40 of Set 3 | hamilton\n",
      "Processing Record 41 of Set 3 | port elizabeth\n",
      "Processing Record 42 of Set 3 | erenhot\n",
      "Processing Record 43 of Set 3 | micheweni\n",
      "Processing Record 44 of Set 3 | east london\n",
      "Processing Record 45 of Set 3 | zaplavnoye\n",
      "Processing Record 46 of Set 3 | rincon\n",
      "Processing Record 47 of Set 3 | saint-philippe\n",
      "Processing Record 48 of Set 3 | kahului\n",
      "Processing Record 49 of Set 3 | sahuaripa\n",
      "Processing Record 0 of Set 4 | vaini\n",
      "Processing Record 1 of Set 4 | tashtyp\n",
      "Processing Record 2 of Set 4 | kieta\n",
      "Processing Record 3 of Set 4 | bengkulu\n",
      "Processing Record 4 of Set 4 | revelstoke\n",
      "Processing Record 5 of Set 4 | santiago\n",
      "Processing Record 6 of Set 4 | victoria\n",
      "Processing Record 7 of Set 4 | amderma\n",
      "City not found. Skipping...\n",
      "Processing Record 8 of Set 4 | mys shmidta\n",
      "City not found. Skipping...\n",
      "Processing Record 9 of Set 4 | gandajika\n",
      "Processing Record 10 of Set 4 | bontang\n",
      "Processing Record 11 of Set 4 | tynda\n",
      "Processing Record 12 of Set 4 | nizhneyansk\n",
      "City not found. Skipping...\n",
      "Processing Record 13 of Set 4 | bechem\n",
      "Processing Record 14 of Set 4 | sur\n",
      "Processing Record 15 of Set 4 | sungaipenuh\n",
      "Processing Record 16 of Set 4 | mount isa\n",
      "Processing Record 17 of Set 4 | kiunga\n",
      "Processing Record 18 of Set 4 | tiksi\n",
      "Processing Record 19 of Set 4 | coquimbo\n",
      "Processing Record 20 of Set 4 | khislavichi\n",
      "Processing Record 21 of Set 4 | tsihombe\n",
      "City not found. Skipping...\n",
      "Processing Record 22 of Set 4 | don benito\n",
      "Processing Record 23 of Set 4 | port hedland\n",
      "Processing Record 24 of Set 4 | pangnirtung\n",
      "Processing Record 25 of Set 4 | yellowknife\n",
      "Processing Record 26 of Set 4 | vila velha\n",
      "Processing Record 27 of Set 4 | castro\n",
      "Processing Record 28 of Set 4 | gat\n",
      "Processing Record 29 of Set 4 | necochea\n",
      "Processing Record 30 of Set 4 | san ramon de la nueva oran\n",
      "Processing Record 31 of Set 4 | lompoc\n",
      "Processing Record 32 of Set 4 | thompson\n",
      "Processing Record 33 of Set 4 | lumby\n",
      "Processing Record 34 of Set 4 | bismil\n",
      "Processing Record 35 of Set 4 | mahebourg\n",
      "Processing Record 36 of Set 4 | wajima\n",
      "Processing Record 37 of Set 4 | christchurch\n"
     ]
    },
    {
     "name": "stdout",
     "output_type": "stream",
     "text": [
      "Processing Record 38 of Set 4 | phuket\n",
      "Processing Record 39 of Set 4 | tubuala\n",
      "Processing Record 40 of Set 4 | beeville\n",
      "Processing Record 41 of Set 4 | palkaka\n",
      "City not found. Skipping...\n",
      "Processing Record 42 of Set 4 | lugazi\n",
      "Processing Record 43 of Set 4 | souillac\n",
      "Processing Record 44 of Set 4 | jamestown\n",
      "Processing Record 45 of Set 4 | komsomolskiy\n",
      "Processing Record 46 of Set 4 | pevek\n",
      "Processing Record 47 of Set 4 | pacific grove\n",
      "Processing Record 48 of Set 4 | norman wells\n",
      "Processing Record 49 of Set 4 | upington\n",
      "Processing Record 0 of Set 5 | byron bay\n",
      "Processing Record 1 of Set 5 | quelimane\n",
      "Processing Record 2 of Set 5 | lesozavodsk\n",
      "Processing Record 3 of Set 5 | grand river south east\n",
      "City not found. Skipping...\n",
      "Processing Record 4 of Set 5 | illoqqortoormiut\n",
      "City not found. Skipping...\n",
      "Processing Record 5 of Set 5 | babu\n",
      "Processing Record 6 of Set 5 | ancud\n",
      "Processing Record 7 of Set 5 | carnarvon\n",
      "Processing Record 8 of Set 5 | tigil\n",
      "Processing Record 9 of Set 5 | livermore\n",
      "Processing Record 10 of Set 5 | chicama\n",
      "Processing Record 11 of Set 5 | constitucion\n",
      "Processing Record 12 of Set 5 | gouyave\n",
      "Processing Record 13 of Set 5 | kruisfontein\n",
      "Processing Record 14 of Set 5 | sabha\n",
      "Processing Record 15 of Set 5 | smolyaninovo\n",
      "Processing Record 16 of Set 5 | sao filipe\n",
      "Processing Record 17 of Set 5 | saint-joseph\n",
      "Processing Record 18 of Set 5 | kargil\n",
      "Processing Record 19 of Set 5 | srednekolymsk\n",
      "Processing Record 20 of Set 5 | gracac\n",
      "Processing Record 21 of Set 5 | gorno-chuyskiy\n",
      "City not found. Skipping...\n",
      "Processing Record 22 of Set 5 | cabedelo\n",
      "Processing Record 23 of Set 5 | kodiak\n",
      "Processing Record 24 of Set 5 | luderitz\n",
      "Processing Record 25 of Set 5 | lishui\n",
      "Processing Record 26 of Set 5 | normandin\n",
      "Processing Record 27 of Set 5 | socorro\n",
      "Processing Record 28 of Set 5 | ustka\n",
      "Processing Record 29 of Set 5 | kulachi\n",
      "Processing Record 30 of Set 5 | broken hill\n",
      "Processing Record 31 of Set 5 | narsaq\n",
      "Processing Record 32 of Set 5 | hokitika\n",
      "Processing Record 33 of Set 5 | boueni\n",
      "Processing Record 34 of Set 5 | nuuk\n",
      "Processing Record 35 of Set 5 | saleaula\n",
      "City not found. Skipping...\n",
      "Processing Record 36 of Set 5 | margate\n",
      "Processing Record 37 of Set 5 | bredasdorp\n",
      "Processing Record 38 of Set 5 | sola\n",
      "Processing Record 39 of Set 5 | durban\n",
      "Processing Record 40 of Set 5 | moa\n",
      "Processing Record 41 of Set 5 | cidreira\n",
      "Processing Record 42 of Set 5 | turukhansk\n",
      "Processing Record 43 of Set 5 | ust-kamchatsk\n",
      "City not found. Skipping...\n",
      "Processing Record 44 of Set 5 | chokurdakh\n",
      "Processing Record 45 of Set 5 | halalo\n",
      "City not found. Skipping...\n",
      "Processing Record 46 of Set 5 | los llanos de aridane\n",
      "Processing Record 47 of Set 5 | grand gaube\n",
      "Processing Record 48 of Set 5 | umzimvubu\n",
      "City not found. Skipping...\n",
      "Processing Record 49 of Set 5 | kaitangata\n",
      "Processing Record 0 of Set 6 | mackay\n",
      "Processing Record 1 of Set 6 | chotila\n",
      "Processing Record 2 of Set 6 | lata\n",
      "Processing Record 3 of Set 6 | svetlogorsk\n",
      "Processing Record 4 of Set 6 | inuvik\n",
      "Processing Record 5 of Set 6 | palmer\n",
      "Processing Record 6 of Set 6 | adolfo lopez mateos\n",
      "Processing Record 7 of Set 6 | nantucket\n",
      "Processing Record 8 of Set 6 | tocopilla\n",
      "Processing Record 9 of Set 6 | raga\n",
      "Processing Record 10 of Set 6 | nuevo laredo\n",
      "Processing Record 11 of Set 6 | comodoro rivadavia\n",
      "Processing Record 12 of Set 6 | castlegar\n",
      "Processing Record 13 of Set 6 | hirara\n",
      "Processing Record 14 of Set 6 | ampanihy\n",
      "Processing Record 15 of Set 6 | mina\n",
      "Processing Record 16 of Set 6 | geylegphug\n",
      "City not found. Skipping...\n",
      "Processing Record 17 of Set 6 | eureka\n",
      "Processing Record 18 of Set 6 | tandil\n",
      "Processing Record 19 of Set 6 | aripuana\n",
      "Processing Record 20 of Set 6 | grindavik\n",
      "Processing Record 21 of Set 6 | digras\n",
      "Processing Record 22 of Set 6 | karaul\n",
      "City not found. Skipping...\n",
      "Processing Record 23 of Set 6 | conceicao da barra\n",
      "Processing Record 24 of Set 6 | nome\n",
      "Processing Record 25 of Set 6 | padang\n",
      "Processing Record 26 of Set 6 | cap malheureux\n",
      "Processing Record 27 of Set 6 | delta del tigre\n",
      "Processing Record 28 of Set 6 | prince george\n",
      "Processing Record 29 of Set 6 | bilma\n",
      "Processing Record 30 of Set 6 | yeppoon\n",
      "Processing Record 31 of Set 6 | kendari\n",
      "Processing Record 32 of Set 6 | pinawa\n",
      "Processing Record 33 of Set 6 | ouango\n",
      "Processing Record 34 of Set 6 | riyadh\n",
      "Processing Record 35 of Set 6 | yulara\n",
      "Processing Record 36 of Set 6 | labe\n",
      "Processing Record 37 of Set 6 | mehran\n",
      "Processing Record 38 of Set 6 | rocha\n",
      "Processing Record 39 of Set 6 | sarangani\n",
      "Processing Record 40 of Set 6 | acapulco\n",
      "Processing Record 41 of Set 6 | ciudad real\n",
      "Processing Record 42 of Set 6 | werda\n",
      "Processing Record 43 of Set 6 | horki\n",
      "Processing Record 44 of Set 6 | lafiagi\n",
      "Processing Record 45 of Set 6 | hofn\n",
      "Processing Record 46 of Set 6 | tagusao\n",
      "Processing Record 47 of Set 6 | namatanai\n",
      "Processing Record 48 of Set 6 | la ronge\n",
      "Processing Record 49 of Set 6 | plaster rock\n",
      "Processing Record 0 of Set 7 | puerto escondido\n",
      "Processing Record 1 of Set 7 | vanimo\n",
      "Processing Record 2 of Set 7 | hudson bay\n",
      "Processing Record 3 of Set 7 | breves\n",
      "Processing Record 4 of Set 7 | boyolangu\n",
      "Processing Record 5 of Set 7 | young\n",
      "Processing Record 6 of Set 7 | aklavik\n",
      "Processing Record 7 of Set 7 | jian\n",
      "Processing Record 8 of Set 7 | verkhnyaya inta\n",
      "Processing Record 9 of Set 7 | kamenskoye\n",
      "City not found. Skipping...\n",
      "Processing Record 10 of Set 7 | fortuna\n",
      "Processing Record 11 of Set 7 | san vicente\n",
      "Processing Record 12 of Set 7 | horadiz\n",
      "Processing Record 13 of Set 7 | gurgan\n",
      "City not found. Skipping...\n",
      "Processing Record 14 of Set 7 | nhulunbuy\n",
      "Processing Record 15 of Set 7 | pacocha\n",
      "Processing Record 16 of Set 7 | luanda\n",
      "Processing Record 17 of Set 7 | jiujiang\n",
      "Processing Record 18 of Set 7 | alvand\n",
      "Processing Record 19 of Set 7 | longyearbyen\n",
      "Processing Record 20 of Set 7 | pamanukan\n",
      "Processing Record 21 of Set 7 | rio gallegos\n",
      "Processing Record 22 of Set 7 | ribeira grande\n",
      "Processing Record 23 of Set 7 | angoram\n",
      "Processing Record 24 of Set 7 | santona\n",
      "Processing Record 25 of Set 7 | kadugannawa\n",
      "Processing Record 26 of Set 7 | potosi\n",
      "Processing Record 27 of Set 7 | san quintin\n",
      "Processing Record 28 of Set 7 | sechura\n",
      "Processing Record 29 of Set 7 | port lincoln\n",
      "Processing Record 30 of Set 7 | kalianget\n",
      "Processing Record 31 of Set 7 | martinez\n",
      "Processing Record 32 of Set 7 | pascagoula\n",
      "Processing Record 33 of Set 7 | tateyama\n",
      "Processing Record 34 of Set 7 | tuatapere\n",
      "Processing Record 35 of Set 7 | galiwinku\n",
      "City not found. Skipping...\n",
      "Processing Record 36 of Set 7 | ubinskoye\n",
      "Processing Record 37 of Set 7 | xichang\n",
      "Processing Record 38 of Set 7 | lagoa\n",
      "Processing Record 39 of Set 7 | chapais\n",
      "Processing Record 40 of Set 7 | leningradskiy\n",
      "Processing Record 41 of Set 7 | labutta\n",
      "City not found. Skipping...\n",
      "Processing Record 42 of Set 7 | thunder bay\n",
      "Processing Record 43 of Set 7 | butembo\n",
      "Processing Record 44 of Set 7 | isangel\n",
      "Processing Record 45 of Set 7 | nurlat\n",
      "Processing Record 46 of Set 7 | fuerte olimpo\n",
      "Processing Record 47 of Set 7 | luceville\n",
      "City not found. Skipping...\n",
      "Processing Record 48 of Set 7 | novoagansk\n",
      "Processing Record 49 of Set 7 | parintins\n",
      "Processing Record 0 of Set 8 | lityn\n",
      "Processing Record 1 of Set 8 | port-gentil\n",
      "Processing Record 2 of Set 8 | klaksvik\n",
      "Processing Record 3 of Set 8 | faya\n",
      "Processing Record 4 of Set 8 | shelburne\n",
      "Processing Record 5 of Set 8 | corning\n",
      "Processing Record 6 of Set 8 | prainha\n",
      "Processing Record 7 of Set 8 | katsuura\n",
      "Processing Record 8 of Set 8 | deputatskiy\n",
      "Processing Record 9 of Set 8 | taoudenni\n",
      "Processing Record 10 of Set 8 | tucupita\n",
      "Processing Record 11 of Set 8 | ornskoldsvik\n",
      "Processing Record 12 of Set 8 | angra\n",
      "City not found. Skipping...\n",
      "Processing Record 13 of Set 8 | avera\n",
      "Processing Record 14 of Set 8 | talnakh\n",
      "Processing Record 15 of Set 8 | chifeng\n",
      "Processing Record 16 of Set 8 | nanga eboko\n",
      "Processing Record 17 of Set 8 | port hardy\n",
      "Processing Record 18 of Set 8 | puerto baquerizo moreno\n",
      "Processing Record 19 of Set 8 | vir\n",
      "Processing Record 20 of Set 8 | boyuibe\n",
      "Processing Record 21 of Set 8 | batemans bay\n",
      "Processing Record 22 of Set 8 | buraydah\n",
      "Processing Record 23 of Set 8 | moron\n",
      "Processing Record 24 of Set 8 | carnduff\n",
      "Processing Record 25 of Set 8 | paredon\n"
     ]
    },
    {
     "name": "stdout",
     "output_type": "stream",
     "text": [
      "Processing Record 26 of Set 8 | panaba\n",
      "Processing Record 27 of Set 8 | abomsa\n",
      "Processing Record 28 of Set 8 | north port\n",
      "Processing Record 29 of Set 8 | juneau\n",
      "Processing Record 30 of Set 8 | walvis bay\n",
      "Processing Record 31 of Set 8 | upernavik\n",
      "Processing Record 32 of Set 8 | beringovskiy\n",
      "Processing Record 33 of Set 8 | samusu\n",
      "City not found. Skipping...\n",
      "Processing Record 34 of Set 8 | suntar\n",
      "Processing Record 35 of Set 8 | ngukurr\n",
      "City not found. Skipping...\n",
      "Processing Record 36 of Set 8 | ilam\n",
      "Processing Record 37 of Set 8 | igarape-miri\n",
      "City not found. Skipping...\n",
      "Processing Record 38 of Set 8 | simbahan\n",
      "Processing Record 39 of Set 8 | vung tau\n",
      "Processing Record 40 of Set 8 | egvekinot\n",
      "Processing Record 41 of Set 8 | yola\n",
      "Processing Record 42 of Set 8 | kupang\n",
      "Processing Record 43 of Set 8 | arman\n",
      "Processing Record 44 of Set 8 | marcona\n",
      "City not found. Skipping...\n",
      "Processing Record 45 of Set 8 | kathmandu\n",
      "Processing Record 46 of Set 8 | minas\n",
      "Processing Record 47 of Set 8 | oriximina\n",
      "Processing Record 48 of Set 8 | inongo\n",
      "Processing Record 49 of Set 8 | weiser\n",
      "Processing Record 0 of Set 9 | wichian buri\n",
      "Processing Record 1 of Set 9 | bosaso\n",
      "Processing Record 2 of Set 9 | labuhan\n",
      "Processing Record 3 of Set 9 | sobolevo\n",
      "Processing Record 4 of Set 9 | pulawy\n",
      "Processing Record 5 of Set 9 | weligama\n",
      "Processing Record 6 of Set 9 | nakhon thai\n",
      "Processing Record 7 of Set 9 | tabuk\n",
      "Processing Record 8 of Set 9 | college\n",
      "Processing Record 9 of Set 9 | wilmington island\n",
      "Processing Record 10 of Set 9 | springdale\n",
      "Processing Record 11 of Set 9 | okhotsk\n",
      "Processing Record 12 of Set 9 | adrar\n",
      "Processing Record 13 of Set 9 | vanavara\n",
      "Processing Record 14 of Set 9 | nioro\n",
      "Processing Record 15 of Set 9 | tapes\n",
      "Processing Record 16 of Set 9 | muros\n",
      "Processing Record 17 of Set 9 | druzhba\n",
      "Processing Record 18 of Set 9 | manokwari\n",
      "Processing Record 19 of Set 9 | carmaux\n",
      "Processing Record 20 of Set 9 | ostrovnoy\n",
      "Processing Record 21 of Set 9 | saint-pierre\n",
      "Processing Record 22 of Set 9 | ouangani\n",
      "Processing Record 23 of Set 9 | torbay\n",
      "Processing Record 24 of Set 9 | valparai\n",
      "Processing Record 25 of Set 9 | viedma\n",
      "Processing Record 26 of Set 9 | tongzhou\n",
      "Processing Record 27 of Set 9 | agua prieta\n",
      "Processing Record 28 of Set 9 | virginia beach\n",
      "Processing Record 29 of Set 9 | matara\n",
      "Processing Record 30 of Set 9 | itarema\n",
      "Processing Record 31 of Set 9 | correntina\n",
      "Processing Record 32 of Set 9 | broome\n",
      "Processing Record 33 of Set 9 | pemba\n",
      "Processing Record 34 of Set 9 | ayan\n",
      "Processing Record 35 of Set 9 | kilindoni\n",
      "Processing Record 36 of Set 9 | aktau\n",
      "Processing Record 37 of Set 9 | maputo\n",
      "Processing Record 38 of Set 9 | gazojak\n",
      "Processing Record 39 of Set 9 | vangaindrano\n",
      "Processing Record 40 of Set 9 | pangody\n",
      "Processing Record 41 of Set 9 | san cristobal\n",
      "Processing Record 42 of Set 9 | sao joao da barra\n",
      "Processing Record 43 of Set 9 | santa lucia\n",
      "Processing Record 44 of Set 9 | balky\n",
      "Processing Record 45 of Set 9 | faanui\n",
      "Processing Record 46 of Set 9 | ambilobe\n",
      "Processing Record 47 of Set 9 | gamba\n",
      "Processing Record 48 of Set 9 | inhambane\n",
      "Processing Record 49 of Set 9 | palabuhanratu\n",
      "City not found. Skipping...\n",
      "Processing Record 0 of Set 10 | kitgum\n",
      "Processing Record 1 of Set 10 | vaitupu\n",
      "City not found. Skipping...\n",
      "Processing Record 2 of Set 10 | wanning\n",
      "Processing Record 3 of Set 10 | yokadouma\n",
      "Processing Record 4 of Set 10 | lima\n",
      "Processing Record 5 of Set 10 | umm lajj\n",
      "Processing Record 6 of Set 10 | forbes\n",
      "Processing Record 7 of Set 10 | whakatane\n",
      "Processing Record 8 of Set 10 | wum\n",
      "Processing Record 9 of Set 10 | xianyang\n",
      "Processing Record 10 of Set 10 | xai-xai\n",
      "Processing Record 11 of Set 10 | horsham\n",
      "Processing Record 12 of Set 10 | sijunjung\n",
      "Processing Record 13 of Set 10 | imphal\n",
      "Processing Record 14 of Set 10 | gorontalo\n",
      "Processing Record 15 of Set 10 | ceres\n",
      "Processing Record 16 of Set 10 | poso\n",
      "Processing Record 17 of Set 10 | shingu\n",
      "Processing Record 18 of Set 10 | hualmay\n",
      "Processing Record 19 of Set 10 | mitsamiouli\n",
      "Processing Record 20 of Set 10 | ust-tsilma\n",
      "Processing Record 21 of Set 10 | puerto madero\n",
      "Processing Record 22 of Set 10 | marsh harbour\n",
      "Processing Record 23 of Set 10 | kapoeta\n",
      "Processing Record 24 of Set 10 | morganton\n",
      "Processing Record 25 of Set 10 | fort nelson\n",
      "Processing Record 26 of Set 10 | tucuman\n",
      "Processing Record 27 of Set 10 | rumoi\n",
      "Processing Record 28 of Set 10 | mayor pablo lagerenza\n",
      "Processing Record 29 of Set 10 | meulaboh\n",
      "Processing Record 30 of Set 10 | berlevag\n",
      "Processing Record 31 of Set 10 | mecca\n",
      "Processing Record 32 of Set 10 | babanusah\n",
      "City not found. Skipping...\n",
      "Processing Record 33 of Set 10 | kursk\n",
      "Processing Record 34 of Set 10 | rapid valley\n",
      "Processing Record 35 of Set 10 | pyaozerskiy\n",
      "Processing Record 36 of Set 10 | fukue\n",
      "Processing Record 37 of Set 10 | satuk\n",
      "Processing Record 38 of Set 10 | owando\n",
      "Processing Record 39 of Set 10 | marsa matruh\n",
      "Processing Record 40 of Set 10 | superior\n",
      "Processing Record 41 of Set 10 | istok\n",
      "Processing Record 42 of Set 10 | vostok\n",
      "Processing Record 43 of Set 10 | pital\n",
      "Processing Record 44 of Set 10 | bara\n",
      "Processing Record 45 of Set 10 | korla\n",
      "Processing Record 46 of Set 10 | karratha\n",
      "Processing Record 47 of Set 10 | nsanje\n",
      "Processing Record 48 of Set 10 | najran\n",
      "Processing Record 49 of Set 10 | daxian\n",
      "City not found. Skipping...\n",
      "Processing Record 0 of Set 11 | davila\n",
      "Processing Record 1 of Set 11 | stornoway\n",
      "Processing Record 2 of Set 11 | kalemie\n",
      "Processing Record 3 of Set 11 | xinzhou\n",
      "Processing Record 4 of Set 11 | touros\n",
      "Processing Record 5 of Set 11 | yerkoy\n",
      "Processing Record 6 of Set 11 | yuzhno-yeniseyskiy\n",
      "City not found. Skipping...\n",
      "Processing Record 7 of Set 11 | karistos\n",
      "City not found. Skipping...\n",
      "Processing Record 8 of Set 11 | olbia\n",
      "Processing Record 9 of Set 11 | chillicothe\n",
      "Processing Record 10 of Set 11 | chupa\n",
      "Processing Record 11 of Set 11 | sibolga\n",
      "Processing Record 12 of Set 11 | abbeville\n",
      "Processing Record 13 of Set 11 | mahon\n",
      "Processing Record 14 of Set 11 | troitsko-pechorsk\n",
      "Processing Record 15 of Set 11 | puerto leguizamo\n",
      "Processing Record 16 of Set 11 | kondinskoye\n",
      "Processing Record 17 of Set 11 | pisco\n",
      "Processing Record 18 of Set 11 | bur gabo\n",
      "City not found. Skipping...\n",
      "Processing Record 19 of Set 11 | menomonie\n",
      "Processing Record 20 of Set 11 | coihaique\n",
      "Processing Record 21 of Set 11 | banda aceh\n",
      "Processing Record 22 of Set 11 | lahad datu\n",
      "Processing Record 23 of Set 11 | kirakira\n",
      "Processing Record 24 of Set 11 | toliary\n",
      "City not found. Skipping...\n",
      "Processing Record 25 of Set 11 | agadez\n",
      "Processing Record 26 of Set 11 | pombas\n",
      "Processing Record 27 of Set 11 | denpasar\n",
      "Processing Record 28 of Set 11 | bubaque\n",
      "Processing Record 29 of Set 11 | dudestii vechi\n",
      "Processing Record 30 of Set 11 | warrensburg\n",
      "Processing Record 31 of Set 11 | flin flon\n",
      "Processing Record 32 of Set 11 | srandakan\n",
      "Processing Record 33 of Set 11 | jijiga\n",
      "Processing Record 34 of Set 11 | buala\n",
      "Processing Record 35 of Set 11 | toftir\n",
      "City not found. Skipping...\n",
      "Processing Record 36 of Set 11 | sisimiut\n",
      "Processing Record 37 of Set 11 | kenai\n",
      "Processing Record 38 of Set 11 | toamasina\n",
      "Processing Record 39 of Set 11 | huarmey\n",
      "Processing Record 40 of Set 11 | salekhard\n",
      "Processing Record 41 of Set 11 | evanston\n",
      "Processing Record 42 of Set 11 | naze\n",
      "Processing Record 43 of Set 11 | carballo\n",
      "Processing Record 44 of Set 11 | sabzevar\n",
      "Processing Record 45 of Set 11 | burns lake\n",
      "Processing Record 46 of Set 11 | roma\n",
      "Processing Record 47 of Set 11 | chernyakhovsk\n",
      "Processing Record 48 of Set 11 | sept-iles\n",
      "Processing Record 49 of Set 11 | misratah\n",
      "Processing Record 0 of Set 12 | terrace\n",
      "Processing Record 1 of Set 12 | seinajoki\n",
      "Processing Record 2 of Set 12 | dudinka\n",
      "Processing Record 3 of Set 12 | launceston\n",
      "Processing Record 4 of Set 12 | huai thalaeng\n",
      "Processing Record 5 of Set 12 | ust-kuyga\n",
      "Processing Record 6 of Set 12 | grants\n",
      "Processing Record 7 of Set 12 | aflu\n",
      "City not found. Skipping...\n",
      "Processing Record 8 of Set 12 | kohila\n",
      "Processing Record 9 of Set 12 | vila franca do campo\n",
      "Processing Record 10 of Set 12 | sandpoint\n",
      "Processing Record 11 of Set 12 | loknya\n",
      "Processing Record 12 of Set 12 | canutama\n",
      "Processing Record 13 of Set 12 | bandar-e torkaman\n",
      "City not found. Skipping...\n",
      "Processing Record 14 of Set 12 | tanout\n",
      "Processing Record 15 of Set 12 | kerema\n",
      "Processing Record 16 of Set 12 | ler\n"
     ]
    },
    {
     "name": "stdout",
     "output_type": "stream",
     "text": [
      "Processing Record 17 of Set 12 | kollumerland\n",
      "City not found. Skipping...\n",
      "Processing Record 18 of Set 12 | yichang\n",
      "Processing Record 19 of Set 12 | domoni\n",
      "Processing Record 20 of Set 12 | lugovoy\n",
      "Processing Record 21 of Set 12 | buckingham\n",
      "Processing Record 22 of Set 12 | pabrade\n",
      "Processing Record 23 of Set 12 | bodden town\n",
      "Processing Record 24 of Set 12 | nemuro\n",
      "Processing Record 25 of Set 12 | mogadishu\n",
      "Processing Record 26 of Set 12 | moose factory\n",
      "Processing Record 27 of Set 12 | alekseyevsk\n",
      "Processing Record 28 of Set 12 | hyeres\n",
      "Processing Record 29 of Set 12 | moranbah\n",
      "Processing Record 30 of Set 12 | borovoy\n",
      "Processing Record 31 of Set 12 | loikaw\n",
      "Processing Record 32 of Set 12 | sabang\n",
      "Processing Record 33 of Set 12 | balimo\n",
      "City not found. Skipping...\n",
      "Processing Record 34 of Set 12 | aswan\n",
      "Processing Record 35 of Set 12 | wana\n",
      "Processing Record 36 of Set 12 | anderson\n",
      "Processing Record 37 of Set 12 | north bend\n",
      "Processing Record 38 of Set 12 | primorsko-akhtarsk\n",
      "Processing Record 39 of Set 12 | krasnyy chikoy\n",
      "Processing Record 40 of Set 12 | axim\n",
      "Processing Record 41 of Set 12 | makueni\n",
      "Processing Record 42 of Set 12 | makakilo city\n",
      "Processing Record 43 of Set 12 | adre\n",
      "Processing Record 44 of Set 12 | haibowan\n",
      "City not found. Skipping...\n",
      "Processing Record 45 of Set 12 | abasolo\n",
      "Processing Record 46 of Set 12 | lake city\n",
      "Processing Record 47 of Set 12 | havoysund\n",
      "------------------------------\n",
      "Data Retrieval Complete\n",
      "------------------------------\n"
     ]
    }
   ],
   "source": [
    "#Run the API call for each city\n",
    "print('''\n",
    "Beginning Data Retrieval\n",
    "-----------------------------''')\n",
    "\n",
    "for city in cities:\n",
    "    try:\n",
    "        print(f\"Processing Record {record_num} of Set {record_set} | {city}\")\n",
    "        response = requests.get(query_url + city).json()\n",
    "        cloudinesses.append(response['clouds']['all'])\n",
    "        countries.append(response['sys']['country'])\n",
    "        dates.append(response['dt'])\n",
    "        humidity.append(response['main']['humidity'])\n",
    "        lats.append(response['coord']['lat'])\n",
    "        lngs.append(response['coord']['lon'])\n",
    "        max_temps.append(response['main']['temp_max'])\n",
    "        wind_speeds.append(response['wind']['speed'])\n",
    "        city_data.append(response['name'])\n",
    "        \n",
    "        #Increase the record count\n",
    "        record_num += 1\n",
    "    \n",
    "    except Exception:\n",
    "        print(\"City not found. Skipping...\")\n",
    "        record_num += 1\n",
    "        \n",
    "        #If statement to handle the API call limits\n",
    "    if record_num == 50:\n",
    "        record_set += 1\n",
    "        record_num = 0\n",
    "        time.sleep(1)\n",
    "print(\"------------------------------\\nData Retrieval Complete\\n------------------------------\")"
   ]
  },
  {
   "cell_type": "code",
   "execution_count": null,
   "metadata": {
    "scrolled": true
   },
   "outputs": [],
   "source": []
  },
  {
   "cell_type": "markdown",
   "metadata": {},
   "source": [
    "### Convert Raw Data to DataFrame\n",
    "* Export the city data into a .csv.\n",
    "* Display the DataFrame"
   ]
  },
  {
   "cell_type": "code",
   "execution_count": 6,
   "metadata": {},
   "outputs": [
    {
     "data": {
      "text/html": [
       "<div>\n",
       "<style scoped>\n",
       "    .dataframe tbody tr th:only-of-type {\n",
       "        vertical-align: middle;\n",
       "    }\n",
       "\n",
       "    .dataframe tbody tr th {\n",
       "        vertical-align: top;\n",
       "    }\n",
       "\n",
       "    .dataframe thead th {\n",
       "        text-align: right;\n",
       "    }\n",
       "</style>\n",
       "<table border=\"1\" class=\"dataframe\">\n",
       "  <thead>\n",
       "    <tr style=\"text-align: right;\">\n",
       "      <th></th>\n",
       "      <th>City</th>\n",
       "      <th>Cloudiness</th>\n",
       "      <th>Country</th>\n",
       "      <th>Date</th>\n",
       "      <th>Humidity</th>\n",
       "      <th>Latitude</th>\n",
       "      <th>Longitude</th>\n",
       "      <th>Max Temp</th>\n",
       "      <th>Wind Speed</th>\n",
       "    </tr>\n",
       "  </thead>\n",
       "  <tbody>\n",
       "    <tr>\n",
       "      <th>0</th>\n",
       "      <td>Camacha</td>\n",
       "      <td>40</td>\n",
       "      <td>PT</td>\n",
       "      <td>1612569234</td>\n",
       "      <td>67</td>\n",
       "      <td>33.0833</td>\n",
       "      <td>-16.3333</td>\n",
       "      <td>57.20</td>\n",
       "      <td>19.57</td>\n",
       "    </tr>\n",
       "    <tr>\n",
       "      <th>1</th>\n",
       "      <td>Mataura</td>\n",
       "      <td>62</td>\n",
       "      <td>NZ</td>\n",
       "      <td>1612569234</td>\n",
       "      <td>48</td>\n",
       "      <td>-46.1927</td>\n",
       "      <td>168.8643</td>\n",
       "      <td>73.51</td>\n",
       "      <td>3.04</td>\n",
       "    </tr>\n",
       "    <tr>\n",
       "      <th>2</th>\n",
       "      <td>Hobart</td>\n",
       "      <td>75</td>\n",
       "      <td>AU</td>\n",
       "      <td>1612569035</td>\n",
       "      <td>64</td>\n",
       "      <td>-42.8794</td>\n",
       "      <td>147.3294</td>\n",
       "      <td>73.00</td>\n",
       "      <td>10.36</td>\n",
       "    </tr>\n",
       "    <tr>\n",
       "      <th>3</th>\n",
       "      <td>Manacor</td>\n",
       "      <td>20</td>\n",
       "      <td>ES</td>\n",
       "      <td>1612569234</td>\n",
       "      <td>45</td>\n",
       "      <td>39.5696</td>\n",
       "      <td>3.2096</td>\n",
       "      <td>68.00</td>\n",
       "      <td>5.75</td>\n",
       "    </tr>\n",
       "    <tr>\n",
       "      <th>4</th>\n",
       "      <td>São José da Coroa Grande</td>\n",
       "      <td>5</td>\n",
       "      <td>BR</td>\n",
       "      <td>1612569234</td>\n",
       "      <td>81</td>\n",
       "      <td>-8.8978</td>\n",
       "      <td>-35.1478</td>\n",
       "      <td>78.48</td>\n",
       "      <td>8.93</td>\n",
       "    </tr>\n",
       "  </tbody>\n",
       "</table>\n",
       "</div>"
      ],
      "text/plain": [
       "                       City  Cloudiness Country        Date  Humidity  \\\n",
       "0                   Camacha          40      PT  1612569234        67   \n",
       "1                   Mataura          62      NZ  1612569234        48   \n",
       "2                    Hobart          75      AU  1612569035        64   \n",
       "3                   Manacor          20      ES  1612569234        45   \n",
       "4  São José da Coroa Grande           5      BR  1612569234        81   \n",
       "\n",
       "   Latitude  Longitude  Max Temp  Wind Speed  \n",
       "0   33.0833   -16.3333     57.20       19.57  \n",
       "1  -46.1927   168.8643     73.51        3.04  \n",
       "2  -42.8794   147.3294     73.00       10.36  \n",
       "3   39.5696     3.2096     68.00        5.75  \n",
       "4   -8.8978   -35.1478     78.48        8.93  "
      ]
     },
     "execution_count": 6,
     "metadata": {},
     "output_type": "execute_result"
    }
   ],
   "source": [
    "#Create a dictonary with the lists generated\n",
    "weather_dict = {\n",
    "    \"City\":city_data,\n",
    "    \"Cloudiness\":cloudinesses,\n",
    "    \"Country\":countries,\n",
    "    \"Date\":dates,\n",
    "    \"Humidity\":humidity,\n",
    "    \"Latitude\":lats,\n",
    "    \"Longitude\":lngs,\n",
    "    \"Max Temp\":max_temps,\n",
    "    \"Wind Speed\":wind_speeds\n",
    "}\n",
    "\n",
    "#Convert to Data frame\n",
    "city_weather_df = pd.DataFrame(weather_dict)\n",
    "city_weather_df.head()\n",
    "#city_weather_df.count()"
   ]
  },
  {
   "cell_type": "code",
   "execution_count": 7,
   "metadata": {},
   "outputs": [],
   "source": [
    "# output data to csv\n",
    "city_weather_df.to_csv(output_data_file,index=False)"
   ]
  },
  {
   "cell_type": "code",
   "execution_count": null,
   "metadata": {},
   "outputs": [],
   "source": []
  },
  {
   "cell_type": "markdown",
   "metadata": {},
   "source": [
    "## Inspect the data and remove the cities where the humidity > 100%.\n",
    "----\n",
    "Skip this step if there are no cities that have humidity > 100%. "
   ]
  },
  {
   "cell_type": "code",
   "execution_count": 8,
   "metadata": {},
   "outputs": [
    {
     "name": "stdout",
     "output_type": "stream",
     "text": [
      "From the statitics below, you can see the max of Humidity is 100, so this step can be skipped\n"
     ]
    },
    {
     "data": {
      "text/html": [
       "<div>\n",
       "<style scoped>\n",
       "    .dataframe tbody tr th:only-of-type {\n",
       "        vertical-align: middle;\n",
       "    }\n",
       "\n",
       "    .dataframe tbody tr th {\n",
       "        vertical-align: top;\n",
       "    }\n",
       "\n",
       "    .dataframe thead th {\n",
       "        text-align: right;\n",
       "    }\n",
       "</style>\n",
       "<table border=\"1\" class=\"dataframe\">\n",
       "  <thead>\n",
       "    <tr style=\"text-align: right;\">\n",
       "      <th></th>\n",
       "      <th>Cloudiness</th>\n",
       "      <th>Date</th>\n",
       "      <th>Humidity</th>\n",
       "      <th>Latitude</th>\n",
       "      <th>Longitude</th>\n",
       "      <th>Max Temp</th>\n",
       "      <th>Wind Speed</th>\n",
       "    </tr>\n",
       "  </thead>\n",
       "  <tbody>\n",
       "    <tr>\n",
       "      <th>count</th>\n",
       "      <td>550.000000</td>\n",
       "      <td>5.500000e+02</td>\n",
       "      <td>550.000000</td>\n",
       "      <td>550.000000</td>\n",
       "      <td>550.000000</td>\n",
       "      <td>550.000000</td>\n",
       "      <td>550.000000</td>\n",
       "    </tr>\n",
       "    <tr>\n",
       "      <th>mean</th>\n",
       "      <td>53.749091</td>\n",
       "      <td>1.612569e+09</td>\n",
       "      <td>73.354545</td>\n",
       "      <td>18.103235</td>\n",
       "      <td>14.299907</td>\n",
       "      <td>51.489855</td>\n",
       "      <td>7.894945</td>\n",
       "    </tr>\n",
       "    <tr>\n",
       "      <th>std</th>\n",
       "      <td>39.217003</td>\n",
       "      <td>5.391022e+01</td>\n",
       "      <td>19.574242</td>\n",
       "      <td>33.379245</td>\n",
       "      <td>91.187156</td>\n",
       "      <td>30.436925</td>\n",
       "      <td>5.546491</td>\n",
       "    </tr>\n",
       "    <tr>\n",
       "      <th>min</th>\n",
       "      <td>0.000000</td>\n",
       "      <td>1.612569e+09</td>\n",
       "      <td>7.000000</td>\n",
       "      <td>-54.800000</td>\n",
       "      <td>-179.166700</td>\n",
       "      <td>-38.540000</td>\n",
       "      <td>0.290000</td>\n",
       "    </tr>\n",
       "    <tr>\n",
       "      <th>25%</th>\n",
       "      <td>11.000000</td>\n",
       "      <td>1.612569e+09</td>\n",
       "      <td>64.000000</td>\n",
       "      <td>-9.038875</td>\n",
       "      <td>-68.572175</td>\n",
       "      <td>33.800000</td>\n",
       "      <td>3.530000</td>\n",
       "    </tr>\n",
       "    <tr>\n",
       "      <th>50%</th>\n",
       "      <td>71.500000</td>\n",
       "      <td>1.612569e+09</td>\n",
       "      <td>79.000000</td>\n",
       "      <td>21.089000</td>\n",
       "      <td>23.055750</td>\n",
       "      <td>62.600000</td>\n",
       "      <td>6.600000</td>\n",
       "    </tr>\n",
       "    <tr>\n",
       "      <th>75%</th>\n",
       "      <td>90.000000</td>\n",
       "      <td>1.612569e+09</td>\n",
       "      <td>88.000000</td>\n",
       "      <td>44.302475</td>\n",
       "      <td>95.322000</td>\n",
       "      <td>75.990000</td>\n",
       "      <td>10.907500</td>\n",
       "    </tr>\n",
       "    <tr>\n",
       "      <th>max</th>\n",
       "      <td>100.000000</td>\n",
       "      <td>1.612569e+09</td>\n",
       "      <td>100.000000</td>\n",
       "      <td>78.218600</td>\n",
       "      <td>179.316700</td>\n",
       "      <td>86.000000</td>\n",
       "      <td>29.930000</td>\n",
       "    </tr>\n",
       "  </tbody>\n",
       "</table>\n",
       "</div>"
      ],
      "text/plain": [
       "       Cloudiness          Date    Humidity    Latitude   Longitude  \\\n",
       "count  550.000000  5.500000e+02  550.000000  550.000000  550.000000   \n",
       "mean    53.749091  1.612569e+09   73.354545   18.103235   14.299907   \n",
       "std     39.217003  5.391022e+01   19.574242   33.379245   91.187156   \n",
       "min      0.000000  1.612569e+09    7.000000  -54.800000 -179.166700   \n",
       "25%     11.000000  1.612569e+09   64.000000   -9.038875  -68.572175   \n",
       "50%     71.500000  1.612569e+09   79.000000   21.089000   23.055750   \n",
       "75%     90.000000  1.612569e+09   88.000000   44.302475   95.322000   \n",
       "max    100.000000  1.612569e+09  100.000000   78.218600  179.316700   \n",
       "\n",
       "         Max Temp  Wind Speed  \n",
       "count  550.000000  550.000000  \n",
       "mean    51.489855    7.894945  \n",
       "std     30.436925    5.546491  \n",
       "min    -38.540000    0.290000  \n",
       "25%     33.800000    3.530000  \n",
       "50%     62.600000    6.600000  \n",
       "75%     75.990000   10.907500  \n",
       "max     86.000000   29.930000  "
      ]
     },
     "execution_count": 8,
     "metadata": {},
     "output_type": "execute_result"
    }
   ],
   "source": [
    "print(\"From the statitics below, you can see the max of Humidity is 100, so this step can be skipped\")\n",
    "city_stats = city_weather_df.describe()\n",
    "city_stats"
   ]
  },
  {
   "cell_type": "code",
   "execution_count": null,
   "metadata": {},
   "outputs": [],
   "source": [
    "#  Get the indices of cities that have humidity over 100%.\n"
   ]
  },
  {
   "cell_type": "code",
   "execution_count": null,
   "metadata": {},
   "outputs": [],
   "source": [
    "# Make a new DataFrame equal to the city data to drop all humidity outliers by index.\n",
    "# Passing \"inplace=False\" will make a copy of the city_data DataFrame, which we call \"clean_city_data\".\n"
   ]
  },
  {
   "cell_type": "code",
   "execution_count": null,
   "metadata": {},
   "outputs": [],
   "source": [
    "\n"
   ]
  },
  {
   "cell_type": "markdown",
   "metadata": {},
   "source": [
    "## Plotting the Data\n",
    "* Use proper labeling of the plots using plot titles (including date of analysis) and axes labels.\n",
    "* Save the plotted figures as .pngs."
   ]
  },
  {
   "cell_type": "markdown",
   "metadata": {},
   "source": [
    "## Latitude vs. Temperature Plot"
   ]
  },
  {
   "cell_type": "code",
   "execution_count": 9,
   "metadata": {
    "scrolled": true
   },
   "outputs": [
    {
     "data": {
      "image/png": "[encoded data removed]",
      "text/plain": [
       "<Figure size 432x288 with 1 Axes>"
      ]
     },
     "metadata": {
      "needs_background": "light"
     },
     "output_type": "display_data"
    }
   ],
   "source": [
    "# Build a scatter plot\n",
    "plt.scatter(city_weather_df[\"Latitude\"], city_weather_df[\"Max Temp\"], marker=\"o\")\n",
    "\n",
    "# Set other graph properties\n",
    "plt.title(f'City Latitude vs. Max Temperature {time.strftime(\"%m/%d/%Y\")}')\n",
    "plt.ylabel(\"Max Temperature (F)\")\n",
    "plt.xlabel(\"Latitude\")\n",
    "plt.grid(True)\n",
    "\n",
    "# Save the figure\n",
    "plt.savefig(\"output_data/City Latitude vs. Max Temperature.png\")\n",
    "\n",
    "# Show plot\n",
    "plt.show()"
   ]
  },
  {
   "cell_type": "markdown",
   "metadata": {},
   "source": [
    "The City Latitude vs. Max Temperature plot shown above is analyzing data from all the cities. \n",
    "The latitude peak is at approximately close to 20 degree.After that value, it shows a possible to be a linear relationship\n",
    " with temperature "
   ]
  },
  {
   "cell_type": "markdown",
   "metadata": {},
   "source": [
    "## Latitude vs. Humidity Plot"
   ]
  },
  {
   "cell_type": "code",
   "execution_count": 10,
   "metadata": {},
   "outputs": [
    {
     "data": {
      "image/png": "[encoded data removed]",
      "text/plain": [
       "<Figure size 432x288 with 1 Axes>"
      ]
     },
     "metadata": {
      "needs_background": "light"
     },
     "output_type": "display_data"
    }
   ],
   "source": [
    "# Build a scatter plot \n",
    "plt.scatter(city_weather_df[\"Latitude\"], city_weather_df[\"Humidity\"], marker=\"o\")\n",
    "\n",
    "# Set other graph properties\n",
    "plt.title(f'City Latitude vs. Humidity {time.strftime(\"%m/%d/%Y\")}')\n",
    "plt.ylabel(\"Humidity %\")\n",
    "plt.xlabel(\"Latitude\")\n",
    "plt.grid(True)\n",
    "\n",
    "# Save the figure\n",
    "plt.savefig(\"output_data/City Latitude vs. Humidity.png\")\n",
    "\n",
    "# Show plot\n",
    "plt.show()"
   ]
  },
  {
   "cell_type": "markdown",
   "metadata": {},
   "source": [
    "The City Latitude vs. Humidity plot shown above is analyzing data from all the cities. There does not seem to be a clear realtionship between humidity and latitude as the data points look spread out but closer to 60 degrees, there is a closer cluster of humidity."
   ]
  },
  {
   "cell_type": "markdown",
   "metadata": {},
   "source": [
    "## Latitude vs. Cloudiness Plot"
   ]
  },
  {
   "cell_type": "code",
   "execution_count": 11,
   "metadata": {},
   "outputs": [
    {
     "data": {
      "image/png": "[encoded data removed]",
      "text/plain": [
       "<Figure size 432x288 with 1 Axes>"
      ]
     },
     "metadata": {
      "needs_background": "light"
     },
     "output_type": "display_data"
    }
   ],
   "source": [
    "# Build a scatter plot \n",
    "plt.scatter(city_weather_df[\"Latitude\"], city_weather_df[\"Cloudiness\"], marker=\"o\")\n",
    "\n",
    "# Set other graph properties\n",
    "plt.title(f'City Latitude vs. Cloudiness {time.strftime(\"%m/%d/%Y\")}')\n",
    "plt.ylabel(\"Cloudiness %\")\n",
    "plt.xlabel(\"Latitude\")\n",
    "plt.grid(True)\n",
    "\n",
    "# Save the figure\n",
    "plt.savefig(\"output_data/City Latitude vs. Cloudiness.png\")\n",
    "\n",
    "# Show plot\n",
    "plt.show()"
   ]
  },
  {
   "cell_type": "markdown",
   "metadata": {},
   "source": [
    "The City Latitude vs. Cloudiness plot shown above does not seem to show a clear relationship between cloudiness and city latitude although the data points for cloudiness cluster together at 0% or 100 % for latitude degrees at 0,20,40,60 and 70. "
   ]
  },
  {
   "cell_type": "markdown",
   "metadata": {},
   "source": [
    "## Latitude vs. Wind Speed Plot"
   ]
  },
  {
   "cell_type": "code",
   "execution_count": 12,
   "metadata": {},
   "outputs": [
    {
     "data": {
      "image/png": "[encoded data removed]",
      "text/plain": [
       "<Figure size 432x288 with 1 Axes>"
      ]
     },
     "metadata": {
      "needs_background": "light"
     },
     "output_type": "display_data"
    }
   ],
   "source": [
    "# Build a scatter plot\n",
    "plt.scatter(city_weather_df[\"Latitude\"], city_weather_df[\"Wind Speed\"], marker=\"o\")\n",
    "\n",
    "# Set other graph properties\n",
    "plt.title(f'City Latitude vs. Wind Speed {time.strftime(\"%m/%d/%Y\")}')\n",
    "plt.ylabel(\"Wind Speed(mph)\")\n",
    "plt.xlabel(\"Latitude\")\n",
    "plt.grid(True)\n",
    "\n",
    "# Save the figure\n",
    "plt.savefig(\"output_data/City Latitude vs. Wind Speed.png\")\n",
    "\n",
    "# Show plot\n",
    "plt.show()"
   ]
  },
  {
   "cell_type": "markdown",
   "metadata": {},
   "source": [
    "The City Latitude vs. Wind Speed plot shown above which is analyzing date for all cities, does not seem to show any relationship between city latitude and wind speed.The data points seems to be spread out. Most of the wind speed values are below about 20 mph, with only a few values above that wind speed limit."
   ]
  },
  {
   "cell_type": "markdown",
   "metadata": {},
   "source": [
    "## Linear Regression"
   ]
  },
  {
   "cell_type": "code",
   "execution_count": 14,
   "metadata": {},
   "outputs": [
    {
     "data": {
      "text/html": [
       "<div>\n",
       "<style scoped>\n",
       "    .dataframe tbody tr th:only-of-type {\n",
       "        vertical-align: middle;\n",
       "    }\n",
       "\n",
       "    .dataframe tbody tr th {\n",
       "        vertical-align: top;\n",
       "    }\n",
       "\n",
       "    .dataframe thead th {\n",
       "        text-align: right;\n",
       "    }\n",
       "</style>\n",
       "<table border=\"1\" class=\"dataframe\">\n",
       "  <thead>\n",
       "    <tr style=\"text-align: right;\">\n",
       "      <th></th>\n",
       "      <th>City</th>\n",
       "      <th>Cloudiness</th>\n",
       "      <th>Country</th>\n",
       "      <th>Date</th>\n",
       "      <th>Humidity</th>\n",
       "      <th>Latitude</th>\n",
       "      <th>Longitude</th>\n",
       "      <th>Max Temp</th>\n",
       "      <th>Wind Speed</th>\n",
       "    </tr>\n",
       "  </thead>\n",
       "  <tbody>\n",
       "    <tr>\n",
       "      <th>1</th>\n",
       "      <td>Mataura</td>\n",
       "      <td>100</td>\n",
       "      <td>NZ</td>\n",
       "      <td>1612542578</td>\n",
       "      <td>94</td>\n",
       "      <td>-46.1927</td>\n",
       "      <td>168.8643</td>\n",
       "      <td>47.43</td>\n",
       "      <td>1.50</td>\n",
       "    </tr>\n",
       "    <tr>\n",
       "      <th>2</th>\n",
       "      <td>Hobart</td>\n",
       "      <td>90</td>\n",
       "      <td>AU</td>\n",
       "      <td>1612542447</td>\n",
       "      <td>83</td>\n",
       "      <td>-42.8794</td>\n",
       "      <td>147.3294</td>\n",
       "      <td>69.80</td>\n",
       "      <td>10.36</td>\n",
       "    </tr>\n",
       "    <tr>\n",
       "      <th>4</th>\n",
       "      <td>São José da Coroa Grande</td>\n",
       "      <td>22</td>\n",
       "      <td>BR</td>\n",
       "      <td>1612542579</td>\n",
       "      <td>63</td>\n",
       "      <td>-8.8978</td>\n",
       "      <td>-35.1478</td>\n",
       "      <td>84.83</td>\n",
       "      <td>12.88</td>\n",
       "    </tr>\n",
       "    <tr>\n",
       "      <th>7</th>\n",
       "      <td>Ambon City</td>\n",
       "      <td>20</td>\n",
       "      <td>ID</td>\n",
       "      <td>1612542272</td>\n",
       "      <td>78</td>\n",
       "      <td>-3.6954</td>\n",
       "      <td>128.1814</td>\n",
       "      <td>80.60</td>\n",
       "      <td>4.61</td>\n",
       "    </tr>\n",
       "    <tr>\n",
       "      <th>8</th>\n",
       "      <td>Morondava</td>\n",
       "      <td>100</td>\n",
       "      <td>MG</td>\n",
       "      <td>1612542272</td>\n",
       "      <td>74</td>\n",
       "      <td>-20.2833</td>\n",
       "      <td>44.2833</td>\n",
       "      <td>84.60</td>\n",
       "      <td>8.30</td>\n",
       "    </tr>\n",
       "  </tbody>\n",
       "</table>\n",
       "</div>"
      ],
      "text/plain": [
       "                       City  Cloudiness Country        Date  Humidity  \\\n",
       "1                   Mataura         100      NZ  1612542578        94   \n",
       "2                    Hobart          90      AU  1612542447        83   \n",
       "4  São José da Coroa Grande          22      BR  1612542579        63   \n",
       "7                Ambon City          20      ID  1612542272        78   \n",
       "8                 Morondava         100      MG  1612542272        74   \n",
       "\n",
       "   Latitude  Longitude  Max Temp  Wind Speed  \n",
       "1  -46.1927   168.8643     47.43        1.50  \n",
       "2  -42.8794   147.3294     69.80       10.36  \n",
       "4   -8.8978   -35.1478     84.83       12.88  \n",
       "7   -3.6954   128.1814     80.60        4.61  \n",
       "8  -20.2833    44.2833     84.60        8.30  "
      ]
     },
     "execution_count": 14,
     "metadata": {},
     "output_type": "execute_result"
    }
   ],
   "source": [
    "# Create Northern and Southern Hemisphere DataFrames\n",
    "\n",
    "north_sphere = city_weather_df.loc[city_weather_df[\"Latitude\"] >= 0]\n",
    "\n",
    "south_sphere = city_weather_df.loc[city_weather_df[\"Latitude\"] < 0]\n",
    "\n",
    "south_sphere.head()"
   ]
  },
  {
   "cell_type": "markdown",
   "metadata": {},
   "source": [
    "####  Northern Hemisphere - Max Temp vs. Latitude Linear Regression"
   ]
  },
  {
   "cell_type": "code",
   "execution_count": 15,
   "metadata": {},
   "outputs": [
    {
     "name": "stdout",
     "output_type": "stream",
     "text": [
      "y =-1.46x + 97.28\n"
     ]
    }
   ],
   "source": [
    "#Creating X & Y values\n",
    "x_values = north_sphere[\"Latitude\"]\n",
    "y_values = north_sphere[\"Max Temp\"]\n",
    "\n",
    "#Creating the linear regression\n",
    "(slope, intercept, rvalue, pvalue, stderr) = st.linregress(x_values, y_values)\n",
    "\n",
    "#finding regression by x values times the slope and intercept\n",
    "regress_values = x_values * slope + intercept\n",
    "\n",
    "#Creating the line equation\n",
    "line_eq = \"y =\" + str(round(slope,2)) + \"x + \" + str(round(intercept,2))\n",
    "print(line_eq)"
   ]
  },
  {
   "cell_type": "code",
   "execution_count": 20,
   "metadata": {},
   "outputs": [
    {
     "name": "stdout",
     "output_type": "stream",
     "text": [
      "The r squared value is: 0.7933206166682947\n",
      "The r value is: -0.8906854757254632\n"
     ]
    },
    {
     "data": {
      "image/png": "[encoded data removed]",
      "text/plain": [
       "<Figure size 432x288 with 1 Axes>"
      ]
     },
     "metadata": {
      "needs_background": "light"
     },
     "output_type": "display_data"
    }
   ],
   "source": [
    "#PLotting the Scatter\n",
    "plt.scatter(x_values,y_values)\n",
    "\n",
    "#PLotting the line\n",
    "plt.plot(x_values,regress_values,\"r-\")\n",
    "\n",
    "#making the line red\n",
    "plt.annotate(line_eq,(6,10),fontsize=15,color=\"red\")\n",
    "\n",
    "# Print r value\n",
    "print(f\"The r squared value is: {rvalue**2}\")\n",
    "print(f\"The r value is: {rvalue}\")\n",
    "\n",
    "#Adding labels\n",
    "plt.title(f'Northern Hemisphere: Max Temp vs. Latitude{time.strftime(\"%m/%d/%Y\")}')\n",
    "plt.xlabel(\"Latitude\")\n",
    "plt.ylabel(\"Max Temp (F)\")\n",
    "#plt.figure(figsize=(8,8))\n",
    "plt.show()\n",
    "\n",
    "# Save the figure"
   ]
  },
  {
   "cell_type": "markdown",
   "metadata": {},
   "source": [
    "The Max Temperature vs. Latitude plot for cities in the northern hemisphere is shown above. The max temperature appears to show a strong downhill (negative) linear relationship with latitudes in the northern hemisphere, with an r-value of -0.89 for the linear regression line."
   ]
  },
  {
   "cell_type": "markdown",
   "metadata": {},
   "source": [
    "####  Southern Hemisphere - Max Temp vs. Latitude Linear Regression"
   ]
  },
  {
   "cell_type": "code",
   "execution_count": 21,
   "metadata": {},
   "outputs": [
    {
     "name": "stdout",
     "output_type": "stream",
     "text": [
      "y =0.39x + 84.61\n"
     ]
    }
   ],
   "source": [
    "#Creating X & Y values\n",
    "s_x_values = south_sphere[\"Latitude\"]\n",
    "s_y_values = south_sphere[\"Max Temp\"]\n",
    "\n",
    "#Creating the linear regression\n",
    "(slope, intercept, rvalue, pvalue, stderr) = st.linregress(s_x_values, s_y_values)\n",
    "\n",
    "#finding regression by x values times the slope and intercept\n",
    "regress_values = s_x_values * slope + intercept\n",
    "\n",
    "#Creating the line equation\n",
    "line_eq = \"y =\" + str(round(slope,2)) + \"x + \" + str(round(intercept,2))\n",
    "print(line_eq)"
   ]
  },
  {
   "cell_type": "code",
   "execution_count": 22,
   "metadata": {},
   "outputs": [
    {
     "name": "stdout",
     "output_type": "stream",
     "text": [
      "The r squared value is: 0.2981965503778698\n",
      "The r value is: 0.5460737591002426\n"
     ]
    },
    {
     "data": {
      "image/png": "[encoded data removed]",
      "text/plain": [
       "<Figure size 432x288 with 1 Axes>"
      ]
     },
     "metadata": {
      "needs_background": "light"
     },
     "output_type": "display_data"
    }
   ],
   "source": [
    "#PLotting the Scatter\n",
    "plt.scatter(s_x_values,s_y_values)\n",
    "\n",
    "#PLotting the line\n",
    "plt.plot(s_x_values,regress_values,\"r-\")\n",
    "\n",
    "#making the line red\n",
    "plt.annotate(line_eq,(6,10),fontsize=15,color=\"red\")\n",
    "\n",
    "# Print r value\n",
    "print(f\"The r squared value is: {rvalue**2}\")\n",
    "print(f\"The r value is: {rvalue}\")\n",
    "\n",
    "#Adding labels\n",
    "plt.title(f'Southern Hemisphere: Max Temp vs. Latitude{time.strftime(\"%m/%d/%Y\")}')\n",
    "plt.xlabel(\"Latitude\")\n",
    "plt.ylabel(\"Max Temp (F)\")\n",
    "#plt.figure(figsize=(8,8))\n",
    "plt.show()"
   ]
  },
  {
   "cell_type": "markdown",
   "metadata": {},
   "source": [
    "The Max Temperature vs. Latitude plot for cities in the northern hemisphere is shown above. The max temperature appears to show a moderate uphill (postive) linear relationship with latitudes in the southern hemisphere, with an r-value of 0.54 for the linear regression line."
   ]
  },
  {
   "cell_type": "markdown",
   "metadata": {},
   "source": [
    "####  Northern Hemisphere - Humidity (%) vs. Latitude Linear Regression"
   ]
  },
  {
   "cell_type": "code",
   "execution_count": 23,
   "metadata": {},
   "outputs": [
    {
     "name": "stdout",
     "output_type": "stream",
     "text": [
      "y =0.52x + 50.76\n"
     ]
    }
   ],
   "source": [
    "#Creating X & Y values\n",
    "n_l_x_values = north_sphere[\"Latitude\"]\n",
    "n_h_y_values = north_sphere[\"Humidity\"]\n",
    "\n",
    "#Creating the linear regression\n",
    "(slope, intercept, rvalue, pvalue, stderr) = st.linregress(n_l_x_values, n_h_y_values)\n",
    "\n",
    "#finding regression by x values times the slope and intercept\n",
    "regress_values = n_l_x_values * slope + intercept\n",
    "\n",
    "#Creating the line equation\n",
    "line_eq = \"y =\" + str(round(slope,2)) + \"x + \" + str(round(intercept,2))\n",
    "print(line_eq)"
   ]
  },
  {
   "cell_type": "code",
   "execution_count": 26,
   "metadata": {},
   "outputs": [
    {
     "name": "stdout",
     "output_type": "stream",
     "text": [
      "The r squared value is: 0.21710746401659595\n",
      "The r value is: 0.4659479198543502\n"
     ]
    },
    {
     "data": {
      "image/png": "[encoded data removed]",
      "text/plain": [
       "<Figure size 432x288 with 1 Axes>"
      ]
     },
     "metadata": {
      "needs_background": "light"
     },
     "output_type": "display_data"
    }
   ],
   "source": [
    "#PLotting the Scatter\n",
    "plt.scatter(n_l_x_values,n_h_y_values)\n",
    "\n",
    "#PLotting the line\n",
    "plt.plot(n_l_x_values,regress_values,\"r-\")\n",
    "\n",
    "#making the line red\n",
    "plt.annotate(line_eq,(6,10),fontsize=15,color=\"red\")\n",
    "\n",
    "# Print r value\n",
    "print(f\"The r squared value is: {rvalue**2}\")\n",
    "print(f\"The r value is: {rvalue}\")\n",
    "\n",
    "#Adding labels\n",
    "plt.title(f'Northern Hemisphere: Humidity(%) vs. Latitude {time.strftime(\"%m/%d/%Y\")}')\n",
    "plt.xlabel(\"Latitude\")\n",
    "plt.ylabel(\"Humidity (%)\")\n",
    "#plt.figure(figsize=(8,8))\n",
    "plt.show()"
   ]
  },
  {
   "cell_type": "markdown",
   "metadata": {},
   "source": [
    "The Humidity (%) vs. Latitude plot for cities in the northern hemisphere is shown above. The humidity shows a weak uphill (postive) linear relationship with an r-value of 0.46 for the linear regression line."
   ]
  },
  {
   "cell_type": "markdown",
   "metadata": {},
   "source": [
    "####  Southern Hemisphere - Humidity (%) vs. Latitude Linear Regression"
   ]
  },
  {
   "cell_type": "code",
   "execution_count": 27,
   "metadata": {},
   "outputs": [
    {
     "name": "stdout",
     "output_type": "stream",
     "text": [
      "y =0.25x + 76.38\n"
     ]
    }
   ],
   "source": [
    "#Creating X & Y values\n",
    "s_l_x_values = south_sphere[\"Latitude\"]\n",
    "s_h_y_values = south_sphere[\"Humidity\"]\n",
    "\n",
    "#Creating the linear regression\n",
    "(slope, intercept, rvalue, pvalue, stderr) = st.linregress(s_l_x_values, s_h_y_values)\n",
    "\n",
    "#finding regression by x values times the slope and intercept\n",
    "regress_values = s_l_x_values * slope + intercept\n",
    "\n",
    "#Creating the line equation\n",
    "line_eq = \"y =\" + str(round(slope,2)) + \"x + \" + str(round(intercept,2))\n",
    "print(line_eq)"
   ]
  },
  {
   "cell_type": "code",
   "execution_count": 28,
   "metadata": {},
   "outputs": [
    {
     "name": "stdout",
     "output_type": "stream",
     "text": [
      "The r squared value is: 0.032436146689881276\n",
      "The r value is: 0.18010037948289082\n"
     ]
    },
    {
     "data": {
      "image/png": "[encoded data removed]",
      "text/plain": [
       "<Figure size 432x288 with 1 Axes>"
      ]
     },
     "metadata": {
      "needs_background": "light"
     },
     "output_type": "display_data"
    }
   ],
   "source": [
    "#PLotting the Scatter\n",
    "plt.scatter(s_l_x_values,s_h_y_values)\n",
    "\n",
    "#PLotting the line\n",
    "plt.plot(s_l_x_values,regress_values,\"r-\")\n",
    "\n",
    "#making the line red\n",
    "plt.annotate(line_eq,(6,10),fontsize=15,color=\"red\")\n",
    "\n",
    "# Print r value\n",
    "print(f\"The r squared value is: {rvalue**2}\")\n",
    "print(f\"The r value is: {rvalue}\")\n",
    "\n",
    "#Adding labels\n",
    "plt.title(f'Southern Hemisphere: Humidity(%) vs. Latitude {time.strftime(\"%m/%d/%Y\")}')\n",
    "plt.xlabel(\"Latitude\")\n",
    "plt.ylabel(\"Humidity (%)\")\n",
    "#plt.figure(figsize=(8,8))\n",
    "plt.show()"
   ]
  },
  {
   "cell_type": "markdown",
   "metadata": {},
   "source": [
    "The Humidity (%) vs. Latitude plot for cities in the souhern hemisphere is shown above. The data does not seem to show any relationship between the humidity and latitude for the southern hemisphere as the r-value is 0.18 for the linear regression line which is nearly close to not having a linear relationship between the two."
   ]
  },
  {
   "cell_type": "markdown",
   "metadata": {},
   "source": [
    "####  Northern Hemisphere - Cloudiness (%) vs. Latitude Linear Regression"
   ]
  },
  {
   "cell_type": "code",
   "execution_count": 29,
   "metadata": {},
   "outputs": [
    {
     "name": "stdout",
     "output_type": "stream",
     "text": [
      "y =0.45x + 39.44\n"
     ]
    }
   ],
   "source": [
    "#Creating X & Y values\n",
    "n_l_x_values = north_sphere[\"Latitude\"]\n",
    "n_c_y_values = north_sphere[\"Cloudiness\"]\n",
    "\n",
    "#Creating the linear regression\n",
    "(slope, intercept, rvalue, pvalue, stderr) = st.linregress(n_l_x_values, n_c_y_values)\n",
    "\n",
    "#finding regression by x values times the slope and intercept\n",
    "regress_values = n_l_x_values * slope + intercept\n",
    "\n",
    "#Creating the line equation\n",
    "line_eq = \"y =\" + str(round(slope,2)) + \"x + \" + str(round(intercept,2))\n",
    "print(line_eq)"
   ]
  },
  {
   "cell_type": "code",
   "execution_count": 30,
   "metadata": {},
   "outputs": [
    {
     "name": "stdout",
     "output_type": "stream",
     "text": [
      "The r squared value is: 0.05457591323664696\n",
      "The r value is: 0.23361488230985406\n"
     ]
    },
    {
     "data": {
      "image/png": "[encoded data removed]",
      "text/plain": [
       "<Figure size 432x288 with 1 Axes>"
      ]
     },
     "metadata": {
      "needs_background": "light"
     },
     "output_type": "display_data"
    }
   ],
   "source": [
    "#PLotting the Scatter\n",
    "plt.scatter(n_l_x_values,n_c_y_values)\n",
    "\n",
    "#PLotting the line\n",
    "plt.plot(n_l_x_values,regress_values,\"r-\")\n",
    "\n",
    "#making the line red\n",
    "plt.annotate(line_eq,(6,10),fontsize=15,color=\"red\")\n",
    "\n",
    "# Print r value\n",
    "print(f\"The r squared value is: {rvalue**2}\")\n",
    "print(f\"The r value is: {rvalue}\")\n",
    "\n",
    "#Adding labels\n",
    "plt.title(f'Northern Hemisphere: Cloudiness (%) vs. Latitude {time.strftime(\"%m/%d/%Y\")}')\n",
    "plt.xlabel(\"Latitude\")\n",
    "plt.ylabel(\"Cloudiness (%)\")\n",
    "#plt.figure(figsize=(8,8))\n",
    "plt.show()"
   ]
  },
  {
   "cell_type": "markdown",
   "metadata": {},
   "source": [
    "The Cloudiness (%) vs. Latitude plot for cities in the northern hemisphere is shown above. The data seems to show no relationship between cloudiness and latitude for the northern hemisphere as the r-value is 0.23 for the linear regression line which is nearly close to not having a linear relationship between the two."
   ]
  },
  {
   "cell_type": "markdown",
   "metadata": {},
   "source": [
    "####  Southern Hemisphere - Cloudiness (%) vs. Latitude Linear Regression"
   ]
  },
  {
   "cell_type": "code",
   "execution_count": 31,
   "metadata": {},
   "outputs": [
    {
     "name": "stdout",
     "output_type": "stream",
     "text": [
      "y =0.41x + 64.83\n"
     ]
    }
   ],
   "source": [
    "#Creating X & Y values\n",
    "s_l_x_values = south_sphere[\"Latitude\"]\n",
    "s_c_y_values = south_sphere[\"Cloudiness\"]\n",
    "\n",
    "#Creating the linear regression\n",
    "(slope, intercept, rvalue, pvalue, stderr) = st.linregress(s_l_x_values, s_c_y_values)\n",
    "\n",
    "#finding regression by x values times the slope and intercept\n",
    "regress_values = s_l_x_values * slope + intercept\n",
    "\n",
    "#Creating the line equation\n",
    "line_eq = \"y =\" + str(round(slope,2)) + \"x + \" + str(round(intercept,2))\n",
    "print(line_eq)"
   ]
  },
  {
   "cell_type": "code",
   "execution_count": 32,
   "metadata": {},
   "outputs": [
    {
     "name": "stdout",
     "output_type": "stream",
     "text": [
      "The r squared value is: 0.023595306299147318\n",
      "The r value is: 0.15360763750265582\n"
     ]
    },
    {
     "data": {
      "image/png": "[encoded data removed]",
      "text/plain": [
       "<Figure size 432x288 with 1 Axes>"
      ]
     },
     "metadata": {
      "needs_background": "light"
     },
     "output_type": "display_data"
    }
   ],
   "source": [
    "#PLotting the Scatter\n",
    "plt.scatter(s_l_x_values,s_c_y_values)\n",
    "\n",
    "#PLotting the line\n",
    "plt.plot(s_l_x_values,regress_values,\"r-\")\n",
    "\n",
    "#making the line red\n",
    "plt.annotate(line_eq,(6,10),fontsize=15,color=\"red\")\n",
    "\n",
    "# Print r value\n",
    "print(f\"The r squared value is: {rvalue**2}\")\n",
    "print(f\"The r value is: {rvalue}\")\n",
    "\n",
    "#Adding labels\n",
    "plt.title(f'Southern Hemisphere: Cloudiness (%) vs. Latitude {time.strftime(\"%m/%d/%Y\")}')\n",
    "plt.xlabel(\"Latitude\")\n",
    "plt.ylabel(\"Cloudiness (%)\")\n",
    "#plt.figure(figsize=(8,8))\n",
    "plt.show()"
   ]
  },
  {
   "cell_type": "markdown",
   "metadata": {},
   "source": [
    "The Cloudiness (%) vs. Latitude plot for cities in the southern hemisphere is shown above. The data seems to show no relationship between cloudiness and latitude for the southern hemisphere as the r-value is 0.15 for the linear regression line which is nearly close to not having a linear relationship between the two."
   ]
  },
  {
   "cell_type": "markdown",
   "metadata": {},
   "source": [
    "####  Northern Hemisphere - Wind Speed (mph) vs. Latitude Linear Regression"
   ]
  },
  {
   "cell_type": "code",
   "execution_count": 33,
   "metadata": {},
   "outputs": [
    {
     "name": "stdout",
     "output_type": "stream",
     "text": [
      "y =0.03x + 7.48\n"
     ]
    }
   ],
   "source": [
    "#Creating X & Y values\n",
    "n_l_x_values = north_sphere[\"Latitude\"]\n",
    "n_w_y_values = north_sphere[\"Wind Speed\"]\n",
    "\n",
    "#Creating the linear regression\n",
    "(slope, intercept, rvalue, pvalue, stderr) = st.linregress(n_l_x_values, n_w_y_values)\n",
    "\n",
    "#finding regression by x values times the slope and intercept\n",
    "regress_values = n_l_x_values * slope + intercept\n",
    "\n",
    "#Creating the line equation\n",
    "line_eq = \"y =\" + str(round(slope,2)) + \"x + \" + str(round(intercept,2))\n",
    "print(line_eq)"
   ]
  },
  {
   "cell_type": "code",
   "execution_count": 34,
   "metadata": {},
   "outputs": [
    {
     "name": "stdout",
     "output_type": "stream",
     "text": [
      "The r squared value is: 0.007907074171291443\n",
      "The r value is: 0.08892173059096097\n"
     ]
    },
    {
     "data": {
      "image/png": "[encoded data removed]",
      "text/plain": [
       "<Figure size 432x288 with 1 Axes>"
      ]
     },
     "metadata": {
      "needs_background": "light"
     },
     "output_type": "display_data"
    }
   ],
   "source": [
    "#PLotting the Scatter\n",
    "plt.scatter(n_l_x_values,n_w_y_values)\n",
    "\n",
    "#PLotting the line\n",
    "plt.plot(n_l_x_values,regress_values,\"r-\")\n",
    "\n",
    "#making the line red\n",
    "plt.annotate(line_eq,(6,10),fontsize=15,color=\"red\")\n",
    "\n",
    "# Print r value\n",
    "print(f\"The r squared value is: {rvalue**2}\")\n",
    "print(f\"The r value is: {rvalue}\")\n",
    "\n",
    "#Adding labels\n",
    "plt.title(f'Northern Hemisphere: Wind Speed vs. Latitude {time.strftime(\"%m/%d/%Y\")}')\n",
    "plt.xlabel(\"Latitude\")\n",
    "plt.ylabel(\"Wind Speed\")\n",
    "#plt.figure(figsize=(8,8))\n",
    "plt.show()"
   ]
  },
  {
   "cell_type": "markdown",
   "metadata": {},
   "source": [
    "The Wind Speed vs. Latitude plot for cities in the northern hemisphere is shown above. The data seems to show no relationship between wind speed and latitude for the northern hemisphere as the r-value is 0.08 for the liner regression line. However it looks like the wind speed increases as you move away from the equator."
   ]
  },
  {
   "cell_type": "markdown",
   "metadata": {},
   "source": [
    "####  Southern Hemisphere - Wind Speed (mph) vs. Latitude Linear Regression"
   ]
  },
  {
   "cell_type": "code",
   "execution_count": 35,
   "metadata": {},
   "outputs": [
    {
     "name": "stdout",
     "output_type": "stream",
     "text": [
      "y =-0.08x + 6.67\n"
     ]
    }
   ],
   "source": [
    "#Creating X & Y values\n",
    "s_l_x_values = south_sphere[\"Latitude\"]\n",
    "s_w_y_values = south_sphere[\"Wind Speed\"]\n",
    "\n",
    "#Creating the linear regression\n",
    "(slope, intercept, rvalue, pvalue, stderr) = st.linregress(s_l_x_values, s_w_y_values)\n",
    "\n",
    "#finding regression by x values times the slope and intercept\n",
    "regress_values = s_l_x_values * slope + intercept\n",
    "\n",
    "#Creating the line equation\n",
    "line_eq = \"y =\" + str(round(slope,2)) + \"x + \" + str(round(intercept,2))\n",
    "print(line_eq)"
   ]
  },
  {
   "cell_type": "code",
   "execution_count": 36,
   "metadata": {},
   "outputs": [
    {
     "name": "stdout",
     "output_type": "stream",
     "text": [
      "The r squared value is: 0.03899329305687875\n",
      "The r value is: -0.19746719488785663\n"
     ]
    },
    {
     "data": {
      "image/png": "[encoded data removed]",
      "text/plain": [
       "<Figure size 432x288 with 1 Axes>"
      ]
     },
     "metadata": {
      "needs_background": "light"
     },
     "output_type": "display_data"
    }
   ],
   "source": [
    "#PLotting the Scatter\n",
    "plt.scatter(s_l_x_values,s_w_y_values)\n",
    "\n",
    "#PLotting the line\n",
    "plt.plot(s_l_x_values,regress_values,\"r-\")\n",
    "\n",
    "#making the line red\n",
    "plt.annotate(line_eq,(6,10),fontsize=15,color=\"red\")\n",
    "\n",
    "# Print r value\n",
    "print(f\"The r squared value is: {rvalue**2}\")\n",
    "print(f\"The r value is: {rvalue}\")\n",
    "\n",
    "#Adding labels\n",
    "plt.title(f'Southern Hemisphere: Wind Speed vs. Latitude {time.strftime(\"%m/%d/%Y\")}')\n",
    "plt.xlabel(\"Latitude\")\n",
    "plt.ylabel(\"Wind Speed\")\n",
    "#plt.figure(figsize=(8,8))\n",
    "plt.show()"
   ]
  },
  {
   "cell_type": "markdown",
   "metadata": {},
   "source": [
    "The Wind Speed vs. Latitude plot for cities in the southern hemisphere is shown above. The data seems to show no relationship between wind speed and latitude for the southern hemisphere as the r-value is -0.19 for the liner regression line. However it looks like the wind speed increases as you move away from the equator."
   ]
  }
 ],
 "metadata": {
  "anaconda-cloud": {},
  "kernel_info": {
   "name": "python3"
  },
  "kernelspec": {
   "display_name": "PythonData",
   "language": "python",
   "name": "pythondata"
  },
  "language_info": {
   "codemirror_mode": {
    "name": "ipython",
    "version": 3
   },
   "file_extension": ".py",
   "mimetype": "text/x-python",
   "name": "python",
   "nbconvert_exporter": "python",
   "pygments_lexer": "ipython3",
   "version": "3.6.12"
  },
  "latex_envs": {
   "LaTeX_envs_menu_present": true,
   "autoclose": false,
   "autocomplete": true,
   "bibliofile": "biblio.bib",
   "cite_by": "apalike",
   "current_citInitial": 1,
   "eqLabelWithNumbers": true,
   "eqNumInitial": 1,
   "hotkeys": {
    "equation": "Ctrl-E",
    "itemize": "Ctrl-I"
   },
   "labels_anchors": false,
   "latex_user_defs": false,
   "report_style_numbering": false,
   "user_envs_cfg": false
  },
  "nteract": {
   "version": "0.12.3"
  }
 },
 "nbformat": 4,
 "nbformat_minor": 2
}
